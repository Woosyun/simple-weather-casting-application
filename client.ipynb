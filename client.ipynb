{
 "cells": [
  {
   "cell_type": "code",
   "execution_count": 1,
   "id": "fbbad6e1",
   "metadata": {},
   "outputs": [],
   "source": [
    "from flask import Flask, request\n",
    "from flask_cachecontrol import cache_for\n",
    "import requests\n",
    "\n",
    "html = (\"\"\"\n",
    "<html>\n",
    "    <head>\n",
    "      <title>Weather Forecase</title>\n",
    "    </head>\n",
    "    <body>\n",
    "      <h1>Expect Weather Forecast!!</h1>\n",
    "      <form action=\"/showWeather\" method=\"GET\">\n",
    "          <input type=\"text\" name=\"city\" placeholder=\"city\"></input>\n",
    "          <button>weather</button>\n",
    "      </form>\n",
    "    </body>\n",
    "</html>\n",
    "\"\"\")\n",
    "\n",
    "app = Flask(__name__)\n",
    "@app.route(\"/\")\n",
    "def index():\n",
    "    return html"
   ]
  },
  {
   "cell_type": "code",
   "execution_count": 2,
   "id": "f14dd70e",
   "metadata": {
    "scrolled": true
   },
   "outputs": [
    {
     "name": "stdout",
     "output_type": "stream",
     "text": [
      " * Serving Flask app '__main__'\n",
      " * Debug mode: off\n"
     ]
    },
    {
     "name": "stderr",
     "output_type": "stream",
     "text": [
      "WARNING: This is a development server. Do not use it in a production deployment. Use a production WSGI server instead.\n",
      " * Running on http://localhost:5000\n",
      "Press CTRL+C to quit\n",
      "127.0.0.1 - - [14/Oct/2023 10:35:05] \"GET /showWeather?city=daegu HTTP/1.1\" 200 -\n",
      "127.0.0.1 - - [14/Oct/2023 10:39:01] \"GET / HTTP/1.1\" 200 -\n",
      "127.0.0.1 - - [14/Oct/2023 10:39:22] \"GET /showWeather?city=jejudo HTTP/1.1\" 200 -\n",
      "127.0.0.1 - - [14/Oct/2023 10:40:23] \"GET /showWeather?city=seoul HTTP/1.1\" 200 -\n"
     ]
    }
   ],
   "source": [
    "@app.route(\"/showWeather\")\n",
    "@cache_for(hours=3)\n",
    "def weather():\n",
    "    ###get city name\n",
    "    city = request.args.get(\"city\")\n",
    "    \n",
    "    ###valid the input\n",
    "    API_KEY = \"eb36c39fd502775c077267afa9ab2867\"\n",
    "    url_loc = f\"http://api.openweathermap.org/geo/1.0/direct?q={city},KOR&limit=1&appid={API_KEY}\"\n",
    "    \n",
    "    try:\n",
    "        loc = requests.get(url_loc)\n",
    "    except:\n",
    "        raise RuntimeError(f\"{city} is unvalid.1\")\n",
    "        \n",
    "    loc = loc.json()\n",
    "    if not (bool(loc)):\n",
    "        raise RuntimeError(f\"{city} is unvalid.2\")\n",
    "    \n",
    "    lat = loc[0]['lat']\n",
    "    lon = loc[0]['lon']\n",
    "    \n",
    "    ###fetch\n",
    "    url = \"http://localhost:5001/weather\"\n",
    "    params = {\n",
    "        'city':city,\n",
    "        'lat': lat,\n",
    "        'lon': lon\n",
    "    }\n",
    "    res = requests.get(url, params=params)\n",
    "    if not (res.status_code in range(200, 400)):\n",
    "        raise RuntimeError(f\"something's wrong!\")\n",
    "    res = res.json()\n",
    "    \n",
    "    re_html = (f\"\"\"\n",
    "        <html>\n",
    "            <head>\n",
    "              <title>Weather Forecast</title>\n",
    "            </head>\n",
    "            <body>\n",
    "              <h1>Weather Forecasting</h1>\n",
    "              <p>Todya's feels_like temperature: </p>\n",
    "              <p> Morning : {res['daily'][0]['feels_like']['morn']}</p>\n",
    "              <p> Day : {res['daily'][0]['feels_like']['day']}</p>\n",
    "              <p> Night : {res['daily'][0]['feels_like']['night']}</p>\n",
    "            </body>\n",
    "        </html>\n",
    "    \"\"\")\n",
    "    \n",
    "    return re_html\n",
    "    \n",
    "if __name__ == '__main__':\n",
    "    app.run(host=\"localhost\", port=5000)"
   ]
  },
  {
   "cell_type": "code",
   "execution_count": null,
   "id": "a3b81dfd",
   "metadata": {},
   "outputs": [],
   "source": []
  }
 ],
 "metadata": {
  "kernelspec": {
   "display_name": "Python 3 (ipykernel)",
   "language": "python",
   "name": "python3"
  },
  "language_info": {
   "codemirror_mode": {
    "name": "ipython",
    "version": 3
   },
   "file_extension": ".py",
   "mimetype": "text/x-python",
   "name": "python",
   "nbconvert_exporter": "python",
   "pygments_lexer": "ipython3",
   "version": "3.11.4"
  }
 },
 "nbformat": 4,
 "nbformat_minor": 5
}
