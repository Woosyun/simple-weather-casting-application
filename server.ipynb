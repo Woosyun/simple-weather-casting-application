{
 "cells": [
  {
   "cell_type": "code",
   "execution_count": 1,
   "id": "d4e69907",
   "metadata": {},
   "outputs": [],
   "source": [
    "from flask import Flask, request\n",
    "from flask_caching import Cache\n",
    "import requests\n",
    "\n",
    "cache = Cache(config={'CACHE_TYPE': 'SimpleCache'})\n",
    "app = Flask(__name__)\n",
    "cache.init_app(app)\n",
    "\n",
    "@app.route(\"/\")\n",
    "def index():\n",
    "    return \"hello from server side\""
   ]
  },
  {
   "cell_type": "code",
   "execution_count": 2,
   "id": "c393f43b",
   "metadata": {},
   "outputs": [
    {
     "name": "stdout",
     "output_type": "stream",
     "text": [
      " * Serving Flask app '__main__'\n",
      " * Debug mode: off\n"
     ]
    },
    {
     "name": "stderr",
     "output_type": "stream",
     "text": [
      "WARNING: This is a development server. Do not use it in a production deployment. Use a production WSGI server instead.\n",
      " * Running on http://localhost:5001\n",
      "Press CTRL+C to quit\n"
     ]
    },
    {
     "name": "stdout",
     "output_type": "stream",
     "text": [
      "there is no cache\n"
     ]
    },
    {
     "name": "stderr",
     "output_type": "stream",
     "text": [
      "127.0.0.1 - - [14/Oct/2023 10:39:22] \"GET /weather?city=jejudo&lat=33.38034745&lon=126.54825445912047 HTTP/1.1\" 200 -\n",
      "127.0.0.1 - - [14/Oct/2023 10:39:54] \"GET / HTTP/1.1\" 200 -\n"
     ]
    },
    {
     "name": "stdout",
     "output_type": "stream",
     "text": [
      "there is no cache\n"
     ]
    },
    {
     "name": "stderr",
     "output_type": "stream",
     "text": [
      "127.0.0.1 - - [14/Oct/2023 10:40:23] \"GET /weather?city=seoul&lat=37.5666791&lon=126.9782914 HTTP/1.1\" 200 -\n"
     ]
    }
   ],
   "source": [
    "@app.route(\"/weather\")\n",
    "def weather():\n",
    "    ### get request\n",
    "    city = request.args.get('city')\n",
    "    lat = request.args.get('lat')\n",
    "    lon = request.args.get('lon')\n",
    "    \n",
    "    ### check cache\n",
    "    API_KEY = \"eb36c39fd502775c077267afa9ab2867\"\n",
    "    url = f\"https://api.openweathermap.org/data/3.0/onecall?lat={lat}&lon={lon}&appid={API_KEY}\"\n",
    "    res = cache.get(url)\n",
    "    \n",
    "    ### send request to external weather api\n",
    "    ### lat = latitude, lon = longitude, appid= api key\n",
    "    if res is None:\n",
    "        print(\"there is no cache\")\n",
    "        res = requests.get(url).json()\n",
    "        cache.set(url, res, timeout=600)\n",
    "    else:\n",
    "        print(\"there is cache\")\n",
    "\n",
    "    ### send response\n",
    "    return res\n",
    "\n",
    "if __name__ == \"__main__\":\n",
    "    app.run(host='localhost', port=5001)"
   ]
  },
  {
   "cell_type": "code",
   "execution_count": null,
   "id": "8bbec592",
   "metadata": {},
   "outputs": [],
   "source": []
  }
 ],
 "metadata": {
  "kernelspec": {
   "display_name": "Python 3 (ipykernel)",
   "language": "python",
   "name": "python3"
  },
  "language_info": {
   "codemirror_mode": {
    "name": "ipython",
    "version": 3
   },
   "file_extension": ".py",
   "mimetype": "text/x-python",
   "name": "python",
   "nbconvert_exporter": "python",
   "pygments_lexer": "ipython3",
   "version": "3.11.4"
  }
 },
 "nbformat": 4,
 "nbformat_minor": 5
}
